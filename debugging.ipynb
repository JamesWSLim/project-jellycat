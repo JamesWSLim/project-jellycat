{
 "cells": [
  {
   "cell_type": "code",
   "execution_count": 55,
   "metadata": {},
   "outputs": [],
   "source": [
    "import streamlit as st\n",
    "import pandas as pd\n",
    "from deltalake import DeltaTable\n",
    "import matplotlib.pyplot as plt\n",
    "import seaborn as sns\n",
    "import numpy\n",
    "import datetime"
   ]
  },
  {
   "cell_type": "code",
   "execution_count": 56,
   "metadata": {},
   "outputs": [
    {
     "name": "stdout",
     "output_type": "stream",
     "text": [
      "Bashful Luxe Bunny Azure\n",
      "https://www.jellycat.com/images/products/medium/AM2B.jpg\n"
     ]
    }
   ],
   "source": [
    "df = DeltaTable(\"./spark-warehouse/all\").to_pandas()\n",
    "selected_jellycat = st.selectbox(\"Search your Jellycat\", list(df[\"jellycatname\"].unique()))\n",
    "print(selected_jellycat)\n",
    "selected_jellycat = 'Amore Bunny'\n",
    "df_selected_jellycat = df[(df[\"jellycatname\"]==selected_jellycat) & (df[\"jellycatdatecreated\"].dt.date == datetime.date(2024, 1, 11))]\n",
    "print(list(df_selected_jellycat[\"imagelink\"])[0])"
   ]
  }
 ],
 "metadata": {
  "kernelspec": {
   "display_name": "jellycat-env",
   "language": "python",
   "name": "python3"
  },
  "language_info": {
   "codemirror_mode": {
    "name": "ipython",
    "version": 3
   },
   "file_extension": ".py",
   "mimetype": "text/x-python",
   "name": "python",
   "nbconvert_exporter": "python",
   "pygments_lexer": "ipython3",
   "version": "3.11.6"
  }
 },
 "nbformat": 4,
 "nbformat_minor": 2
}
